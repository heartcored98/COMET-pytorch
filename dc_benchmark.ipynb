{
 "cells": [
  {
   "cell_type": "code",
   "execution_count": 17,
   "metadata": {
    "scrolled": true
   },
   "outputs": [],
   "source": [
    "from torch.autograd import Variable\n",
    "import deepchem as dc\n",
    "from deepchem.feat import Featurizer\n",
    "\n",
    "from dataloader import *\n",
    "import model\n",
    "from os.path import join\n",
    "\n",
    "# Source code for fc models (tf for classification, tf_regression for regression)\n",
    "# https://github.com/deepchem/deepchem/blob/master/deepchem/models/tensorgraph/fcnet.py"
   ]
  },
  {
   "cell_type": "code",
   "execution_count": 27,
   "metadata": {},
   "outputs": [],
   "source": [
    "def benchmark(dir_path, ckpt_file, tasks, _model, featurizer, metric_type):\n",
    "    \n",
    "    header = ckpt_file.split('.')[0]\n",
    "    _ckpt = header+'_'+featurizer\n",
    "    checkpoint = torch.load(join(dir_path, ckpt_file), map_location=torch.device('cuda'))\n",
    "    args = checkpoint['args']\n",
    "    _args = vars(args)\n",
    "    args.batch_size = 1\n",
    "    args.test_batch_size = 1\n",
    "    args.act = 'gelu'\n",
    "    comet = model.Encoder(args)\n",
    "    comet.load_state_dict(checkpoint['encoder'])\n",
    "    comet.eval()\n",
    "\n",
    "    def mol_to_graph(mol):\n",
    "\n",
    "        adj = Chem.rdmolops.GetAdjacencyMatrix(mol)\n",
    "        list_feature = list()\n",
    "        for atom in mol.GetAtoms():\n",
    "            list_feature.append(atom_feature(atom))\n",
    "        return np.array(list_feature), adj\n",
    "\n",
    "    class MyEncoder(Featurizer):\n",
    "        name = ['comet_encoder']\n",
    "        def __init__(self, model):\n",
    "            self.device = 'cuda'\n",
    "\n",
    "            self.model = model.to(self.device)\n",
    "\n",
    "        def _featurize(self, mol):\n",
    "            X, A = mol_to_graph(mol)\n",
    "            X = Variable(torch.unsqueeze(torch.from_numpy(X), dim=0)).to(self.device).long()\n",
    "            A = Variable(torch.unsqueeze(torch.from_numpy(A.astype(float)), dim=0)).to(self.device).float()\n",
    "            _, _, molvec = self.model(X, A)\n",
    "            return torch.squeeze(molvec).detach().cpu().numpy()\n",
    "\n",
    "    if metric_type == 'reg':\n",
    "        _metric = [dc.metrics.Metric(dc.metrics.mae_score, np.mean)]\n",
    "    if metric_type == 'cls':\n",
    "        _metric = [dc.metrics.Metric(dc.metrics.roc_auc_score, np.mean)]\n",
    "    \n",
    "    if featurizer == 'comet':\n",
    "        feat = MyEncoder(comet)\n",
    "    if featurizer == 'raw':\n",
    "        feat = dc.feat.raw_featurizer.RawFeaturizer()\n",
    "    if featurizer == 'fingerprint':\n",
    "        feat = dc.feat.fingerprints.CircularFingerprint(size=256)\n",
    "    if featurizer == 'default':\n",
    "        feat = None\n",
    "    \n",
    "\n",
    "    task_result = dc.molnet.run_benchmark(\n",
    "                                 ckpt = _ckpt,\n",
    "                                 arg = _args,\n",
    "                                 datasets = tasks,\n",
    "                                 model = _model,\n",
    "                                 split = None,\n",
    "                                 metric = _metric,\n",
    "                                 n_features = 256,\n",
    "                                 featurizer = feat,\n",
    "                                 out_path= './benchmark/',\n",
    "                                 hyper_parameters = None,\n",
    "                                 test = True,\n",
    "                                 reload = False,\n",
    "                                 seed = 123\n",
    "                                 )"
   ]
  },
  {
   "cell_type": "markdown",
   "metadata": {},
   "source": [
    "## task types\n",
    "---\n",
    "1) classification: muv, hiv, bace_c, bbbp, tox21, toxcast, sider, clintox\n",
    "\n",
    "\n",
    "2) regression: lipo, qm7, qm8, delaney, sampl"
   ]
  },
  {
   "cell_type": "markdown",
   "metadata": {},
   "source": [
    "classification = ['bace_c', 'bbbp', 'clintox', 'hiv', 'muv', 'pcba', 'sider', 'tox21', 'toxcast']\n",
    "cls_models =  ['rf', 'tf', 'tf_robust', 'logreg', 'irv', 'graphconv', 'dag', 'xgb',\n",
    "      'weave', 'kernelsvm']\n",
    "\n",
    "regression = ['bace_r', 'chembl', 'clearance', 'delaney', 'hopv', 'kaggle', 'lipo',\n",
    "                'nci', 'pdbbind', 'ppb', 'qm7', 'qm7b', 'qm8', 'qm9', 'sampl']\n",
    "reg_models = ['tf_regression', 'tf_regression_ft', 'rf_regression', 'graphconvreg',\n",
    "      'dtnn', 'dag_regression', 'xgb_regression', 'weave_regression', 'krr', 'ani']"
   ]
  },
  {
   "cell_type": "markdown",
   "metadata": {},
   "source": [
    "cls_tasks = ['bace_c', 'bbbp', 'tox21', 'sider', 'clintox']\n",
    "reg_tasks = ['lipo', 'qm7', 'qm8', 'delaney', 'sampl']"
   ]
  },
  {
   "cell_type": "markdown",
   "metadata": {},
   "source": [
    "## Fingerprint"
   ]
  },
  {
   "cell_type": "code",
   "execution_count": null,
   "metadata": {},
   "outputs": [],
   "source": [
    "fingerprint_result = dc.molnet.run_benchmark(\n",
    "                                 ckpt = 'fingerprint',\n",
    "                                 arg = {'input':'fingerprint'},\n",
    "                                 datasets = reg_tasks,\n",
    "                                 model = 'tf_regression',\n",
    "                                 split = None,\n",
    "                                 metric =  [dc.metrics.Metric(dc.metrics.mae_score, np.mean)],\n",
    "                                 n_features = 256,\n",
    "                                 featurizer = dc.feat.fingerprints.CircularFingerprint(size=256),\n",
    "                                 out_path= './benchmark/',\n",
    "                                 hyper_parameters = None,\n",
    "                                 test = True,\n",
    "                                 reload = False,\n",
    "                                 seed = 123\n",
    "                                 )"
   ]
  },
  {
   "cell_type": "code",
   "execution_count": null,
   "metadata": {},
   "outputs": [],
   "source": [
    "fingerprint_result = dc.molnet.run_benchmark(\n",
    "                                 ckpt = 'fingerprint',\n",
    "                                 arg = {'input':'fingerprint'},\n",
    "                                 datasets = cls_tasks,\n",
    "                                 model = 'tf',\n",
    "                                 split = None,\n",
    "                                 metric = None,\n",
    "                                 n_features = 256,\n",
    "                                 featurizer = dc.feat.fingerprints.CircularFingerprint(size=256),\n",
    "                                 out_path= './benchmark/',\n",
    "                                 hyper_parameters = None,\n",
    "                                 test = True,\n",
    "                                 reload = False,\n",
    "                                 seed = 123\n",
    "                                 )"
   ]
  },
  {
   "cell_type": "markdown",
   "metadata": {},
   "source": [
    "## model_8_256"
   ]
  },
  {
   "cell_type": "code",
   "execution_count": null,
   "metadata": {},
   "outputs": [],
   "source": [
    "model_8_256 = ['model_8_256_001_000004000.tar','model_8_256_005_000020000.tar','model_8_256_010_000040000.tar',\n",
    "               'model_8_256_015_000060000.tar','model_8_256_020_000080000.tar','model_8_256_025_000100000.tar' ]"
   ]
  },
  {
   "cell_type": "code",
   "execution_count": null,
   "metadata": {},
   "outputs": [],
   "source": [
    "benchmark_models('model_8_256', model_8_256)"
   ]
  },
  {
   "cell_type": "code",
   "execution_count": null,
   "metadata": {},
   "outputs": [],
   "source": [
    "model_4_256 = ['model_4_256_s_no_auxilary_001_000004000.tar', 'model_4_256_s_no_auxilary_002_000008000.tar', \n",
    "'model_4_256_s_no_auxilary_003_000012000.tar', 'model_4_256_s_no_auxilary_004_000016000.tar']"
   ]
  },
  {
   "cell_type": "code",
   "execution_count": null,
   "metadata": {},
   "outputs": [],
   "source": [
    "benchmark_models('model_4_256', model_4_256)"
   ]
  },
  {
   "cell_type": "code",
   "execution_count": null,
   "metadata": {},
   "outputs": [],
   "source": [
    "model_4_256_fc = [\n",
    "'model_4_256_s_fc_001_000004000.tar',\n",
    "'model_4_256_s_fc_002_000008000.tar',\n",
    "'model_4_256_s_fc_003_000012000.tar',\n",
    "'model_4_256_s_fc_004_000016000.tar',\n",
    "'model_4_256_s_fc_005_000020000.tar',\n",
    "'model_4_256_s_fc_006_000024000.tar',\n",
    "'model_4_256_s_fc_007_000028000.tar',\n",
    "'model_4_256_s_fc_008_000032000.tar']"
   ]
  },
  {
   "cell_type": "code",
   "execution_count": 21,
   "metadata": {},
   "outputs": [],
   "source": [
    "def cls_benchmark_models(dir_path, files):\n",
    "    for i, file in enumerate(files):\n",
    "        benchmark(dir_path, file, ['sider'], 'tf', 'comet', 'cls')\n",
    "        #benchmark(file, ['qm7'], 'tf_regression', 'comet', 'reg')"
   ]
  },
  {
   "cell_type": "code",
   "execution_count": 22,
   "metadata": {},
   "outputs": [],
   "source": [
    "def reg_benchmark_models(dir_path, files):\n",
    "    for i, file in enumerate(files):\n",
    "        benchmark(dir_path, file, ['qm8'], 'tf_regression', 'comet', 'reg')\n",
    "        #benchmark(file, ['qm7'], 'tf_regression', 'comet', 'reg')"
   ]
  },
  {
   "cell_type": "code",
   "execution_count": 23,
   "metadata": {},
   "outputs": [],
   "source": [
    "model_4_256_yeah=[\n",
    "    'model_4_256_s_fc_022_000088000.tar'\n",
    "#     'model_4_256_s_fc_016_000064000.tar',\n",
    "#     'model_4_256_s_fc_018_000072000.tar'\n",
    "]"
   ]
  },
  {
   "cell_type": "code",
   "execution_count": null,
   "metadata": {
    "scrolled": true
   },
   "outputs": [],
   "source": [
    "reg_benchmark_models(model_4_256_yeah)"
   ]
  },
  {
   "cell_type": "code",
   "execution_count": 28,
   "metadata": {
    "scrolled": true
   },
   "outputs": [
    {
     "name": "stdout",
     "output_type": "stream",
     "text": [
      "-------------------------------------\n",
      "Benchmark on dataset: sider\n",
      "-------------------------------------\n",
      "Loading raw samples now.\n",
      "shard_size: 8192\n",
      "About to start loading CSV from /tmp/sider.csv.gz\n",
      "Loading shard 1 of size 8192.\n",
      "Featurizing sample 0\n",
      "Featurizing sample 1000\n",
      "TIMING: featurizing shard 0 took 18.247 s\n",
      "TIMING: dataset construction took 18.323 s\n",
      "Loading dataset from disk.\n",
      "TIMING: dataset construction took 0.073 s\n",
      "Loading dataset from disk.\n",
      "TIMING: dataset construction took 0.062 s\n",
      "Loading dataset from disk.\n",
      "TIMING: dataset construction took 0.021 s\n",
      "Loading dataset from disk.\n",
      "TIMING: dataset construction took 0.019 s\n",
      "Loading dataset from disk.\n",
      "computed_metrics: [0.6931176833025262, 0.6517091970200506, 0.8165869218500797, 0.6736416428820966, 0.6640441533236294, 0.6601202099318375, 0.7407132747823727, 0.6865669343080683, 0.6512726145740518, 0.6971654240791318, 0.6717115067848459, 0.6938695683095085, 0.7078650266461244, 0.6813942534149788, 0.6459946652899673, 0.7033216533180777, 0.7120336051396096, 0.6870611281330051, 0.6557159374883443, 0.6361774813017991, 0.6705146099810082, 0.6719328684394916, 0.7125574554145983, 0.6639719876568304, 0.6863626349416171, 0.7969896331738437, 0.6448680757010637]\n",
      "computed_metrics: [0.6455696202531647, 0.5525695426685526, 0.9366197183098591, 0.5777688924430229, 0.6123215627347859, 0.537844611528822, 0.5642303433001108, 0.5623728813559323, 0.606604609929078, 0.5930735930735931, 0.558277027027027, 0.650137741046832, 0.6151960784313726, 0.615040650406504, 0.6115044247787611, 0.6210219632451816, 0.6649852362204725, 0.6186572989851679, 0.5946511627906976, 0.612790070156503, 0.5183720930232558, 0.6409031697785497, 0.6246819338422391, 0.5856793145654835, 0.6692066337965039, 0.7379134860050891, 0.5969735720375107]\n",
      "computed_metrics: [0.694620253164557, 0.6318201193520887, 0.43617021276595747, 0.4647058823529411, 0.7295825771324864, 0.6087301587301588, 0.7389271653543308, 0.43977591036414565, 0.6244897959183674, 0.5714006259780908, 0.4992603550295859, 0.6645833333333333, 0.6498305084745764, 0.5161064425770308, 0.5133191890617633, 0.5897901533494754, 0.6792717086834734, 0.5289449112978525, 0.7117686170212767, 0.5928807166430928, 0.5877116804168476, 0.6755405956752345, 0.437962962962963, 0.5492332526230832, 0.44842767295597485, 0.7416666666666667, 0.6152844116369953]\n"
     ]
    }
   ],
   "source": [
    "cls_benchmark_models('./runs/model_4_256_s_fc_train', model_4_256_yeah)"
   ]
  }
 ],
 "metadata": {
  "kernelspec": {
   "display_name": "Python (deepchem)",
   "language": "python",
   "name": "deepchem"
  },
  "language_info": {
   "codemirror_mode": {
    "name": "ipython",
    "version": 3
   },
   "file_extension": ".py",
   "mimetype": "text/x-python",
   "name": "python",
   "nbconvert_exporter": "python",
   "pygments_lexer": "ipython3",
   "version": "3.5.6"
  }
 },
 "nbformat": 4,
 "nbformat_minor": 2
}
