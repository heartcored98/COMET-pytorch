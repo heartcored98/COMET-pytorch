{
 "cells": [
  {
   "cell_type": "code",
   "execution_count": 33,
   "metadata": {},
   "outputs": [],
   "source": [
    "import os\n",
    "from os.path import isfile, join\n",
    "from torchtext.data import RawField, Field, TabularDataset, BucketIterator\n",
    "import pandas as pd\n",
    "\n",
    "def get_dir_files(dir_path):\n",
    "    list_file = [f for f in os.listdir(dir_path) if isfile(join(dir_path, f))]\n",
    "    return list_file\n",
    "\n",
    "train_dataset_path = './dataset/processed_zinc_smiles/data_xs/train'\n",
    "val_dataset_path = './dataset/processed_zinc_smiles/data_xs/val'\n",
    "\n",
    "list_trains = get_dir_files(train_dataset_path)\n",
    "\n",
    "# pd.read_csv(join(train_dataset_path, list_trains[0])).head(5)"
   ]
  },
  {
   "cell_type": "code",
   "execution_count": 36,
   "metadata": {},
   "outputs": [],
   "source": [
    "SMILE = RawField()\n",
    "logP = RawField()\n",
    "MR = RawField()\n",
    "TPSA = RawField()\n",
    "LENGTH = RawField()"
   ]
  },
  {
   "cell_type": "code",
   "execution_count": 43,
   "metadata": {},
   "outputs": [],
   "source": [
    "train_datafields = [(\"smile\", SMILE),\n",
    "                    (\"logP\", logP),\n",
    "                    (\"mr\", MR), \n",
    "                    (\"tpsa\", TPSA),\n",
    "                    (\"length\", LENGTH)]\n",
    "train_dataset = TabularDataset(path=join(train_dataset_path, list_trains[0]),\n",
    "                               format='csv',\n",
    "                               skip_header=True,\n",
    "                               fields=train_datafields)"
   ]
  },
  {
   "cell_type": "code",
   "execution_count": 44,
   "metadata": {},
   "outputs": [
    {
     "name": "stdout",
     "output_type": "stream",
     "text": [
      "dict_keys(['smile', 'logP', 'mr', 'tpsa', 'length'])\n"
     ]
    }
   ],
   "source": [
    "train_dataset[1].logP\n",
    "print(train_dataset[1].__dict__.keys())"
   ]
  },
  {
   "cell_type": "code",
   "execution_count": 45,
   "metadata": {},
   "outputs": [],
   "source": [
    "train_iter = BucketIterator(dataset=train_dataset, \n",
    "                            batch_size=3, \n",
    "                            sort_key=lambda x: len(x.length),\n",
    "                            sort_within_batch=True, \n",
    "                            shuffle=True, \n",
    "                            sort=True)"
   ]
  },
  {
   "cell_type": "code",
   "execution_count": 46,
   "metadata": {},
   "outputs": [
    {
     "data": {
      "text/plain": [
       "\n",
       "[torchtext.data.batch.Batch of size 3]\n",
       "\t[.smile]:['C[C@H]1C[C@](C)(N)C[C@@H]1O', 'Nc1nccc(Cl)c1I', 'N=CN[C@@H]1CCCNC1']\n",
       "\t[.logP]:['0.4946', '1.9218', '-0.06493']\n",
       "\t[.mr]:['36.9972', '46.3764', '37.8111']\n",
       "\t[.tpsa]:['46.25', '38.91', '47.91']\n",
       "\t[.length]:['9', '9', '9']"
      ]
     },
     "execution_count": 46,
     "metadata": {},
     "output_type": "execute_result"
    }
   ],
   "source": [
    "next(train_iter.__iter__())"
   ]
  },
  {
   "cell_type": "code",
   "execution_count": null,
   "metadata": {},
   "outputs": [],
   "source": []
  }
 ],
 "metadata": {
  "kernelspec": {
   "display_name": "Python (pytorch)",
   "language": "python",
   "name": "pytorch"
  },
  "language_info": {
   "codemirror_mode": {
    "name": "ipython",
    "version": 3
   },
   "file_extension": ".py",
   "mimetype": "text/x-python",
   "name": "python",
   "nbconvert_exporter": "python",
   "pygments_lexer": "ipython3",
   "version": "3.6.4"
  }
 },
 "nbformat": 4,
 "nbformat_minor": 2
}
